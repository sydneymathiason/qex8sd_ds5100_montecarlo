{
 "cells": [
  {
   "cell_type": "code",
   "execution_count": 1,
   "id": "5bc8a9be-85c1-4de2-857c-af7807035bf6",
   "metadata": {},
   "outputs": [
    {
     "name": "stdout",
     "output_type": "stream",
     "text": [
      "Obtaining file:///Users/sydneymathiason/Documents/MSDS/Summer/DS5100/qex8sd_ds5100_montecarlo\n",
      "  Preparing metadata (setup.py) ... \u001b[?25ldone\n",
      "\u001b[?25hInstalling collected packages: montecarlo\n",
      "  Attempting uninstall: montecarlo\n",
      "    Found existing installation: montecarlo 1.0.0\n",
      "    Uninstalling montecarlo-1.0.0:\n",
      "      Successfully uninstalled montecarlo-1.0.0\n",
      "  Running setup.py develop for montecarlo\n",
      "Successfully installed montecarlo-1.0.0\n"
     ]
    }
   ],
   "source": [
    "!pip install -e ."
   ]
  },
  {
   "cell_type": "code",
   "execution_count": 2,
   "id": "e1525686-a533-4815-8ebb-69befa3d8e36",
   "metadata": {},
   "outputs": [],
   "source": [
    "from montecarlo.montecarlo import Die, Game, Analyzer\n",
    "import pandas as pd\n",
    "import numpy as np\n",
    "from matplotlib import pyplot as plt\n",
    "import seaborn as sns"
   ]
  },
  {
   "cell_type": "markdown",
   "id": "b63ea7a5-3f31-4965-bc10-2ca01ac40dcd",
   "metadata": {},
   "source": [
    "Create a fair coin (with faces \n",
    " and \n",
    ") and one unfair coin in which one of the faces has a weight of \n",
    " and the others \n",
    ".\n",
    "\n",
    "Play a game of \n",
    " flips with two fair dice.\n",
    "\n",
    "Play another game (using a new Game object) of \n",
    " flips, this time using two unfair dice and one fair die. For the second unfair die, you can use the same die object twice in the list of dice you pass to the Game object.\n",
    "\n",
    "For each game, use an Analyzer object to determine the relative frequency of jackpots — i.e. getting either all \n",
    "s or all \n",
    "s.\n",
    "\n",
    "For each analyzer, compute relative frequency as the number of jackpots over the total number of rolls.\n",
    "\n",
    "Show your results, comparing the two relative frequencies, in a simple bar chart."
   ]
  },
  {
   "cell_type": "markdown",
   "id": "298b1183-48d8-448b-bacd-382875b82733",
   "metadata": {},
   "source": [
    "## \f",
    "Scenario 1: A 2-headed Coin\n",
    "\n",
    "1.  Create a fair coin (with faces $H$ and $T$) and one unfair coin in\n",
    "    which one of the faces has a weight of $5$ and the others $1$.\n",
    "\n",
    "2.  Play a game of $1000$ flips with two fair dice.\n",
    "\n",
    "3.  Play another game (using a new Game object) of $1000$ flips, this\n",
    "    time using two unfair dice and one fair die. For the second unfair\n",
    "    die, you can use the same die object twice in the list of dice you\n",
    "    pass to the Game object.\n",
    "\n",
    "4.  For each game, use an Analyzer object to determine the relative\n",
    "    frequency of jackpots --- i.e. getting either all $H$s or all $T$s.\n",
    "\n",
    "5.  For each analyzer, compute relative frequency as the number of\n",
    "    jackpots over the total number of rolls.\n",
    "\n",
    "6.  Show your results, comparing the two relative frequencies, in a\n",
    "    simple bar chart."
   ]
  },
  {
   "cell_type": "code",
   "execution_count": 3,
   "id": "116ff53b-f833-4c1d-808c-bfbbd55b9215",
   "metadata": {},
   "outputs": [],
   "source": [
    "rolls = 1000"
   ]
  },
  {
   "cell_type": "code",
   "execution_count": 4,
   "id": "73f87556-ea04-4db7-9d30-160fdc2b4a73",
   "metadata": {},
   "outputs": [],
   "source": [
    "faces = np.array([\"H\", \"T\"])\n",
    "die1 = Die(faces)\n",
    "die2 = Die(faces)\n",
    "die2.change_weight(\"H\", 5)"
   ]
  },
  {
   "cell_type": "code",
   "execution_count": 5,
   "id": "f581c62f-d430-40ed-b00d-95e931e261a5",
   "metadata": {},
   "outputs": [],
   "source": [
    "game1 = Game([die1, die1])\n",
    "game1.play(rolls)"
   ]
  },
  {
   "cell_type": "code",
   "execution_count": 6,
   "id": "e1fc40e0-8704-4d6e-8c24-8d5acc774cb0",
   "metadata": {},
   "outputs": [],
   "source": [
    "game2 = Game([die1, die2, die2])\n",
    "game2.play(rolls)"
   ]
  },
  {
   "cell_type": "code",
   "execution_count": 7,
   "id": "c790ab1f-56f9-4a7e-8442-bfcc9e0721a0",
   "metadata": {},
   "outputs": [],
   "source": [
    "A1 = Analyzer(game1)\n",
    "A2 = Analyzer(game2)"
   ]
  },
  {
   "cell_type": "code",
   "execution_count": 8,
   "id": "b55deade-86ad-47c6-a998-b62e0818ab42",
   "metadata": {},
   "outputs": [],
   "source": [
    "jackpot1 = A1.jackpot()\n",
    "freq1 = jackpot1/rolls"
   ]
  },
  {
   "cell_type": "code",
   "execution_count": 9,
   "id": "d5926fb8-64c1-4e4e-9a13-1e9842d12d6d",
   "metadata": {},
   "outputs": [],
   "source": [
    "jackpot2 = A2.jackpot()\n",
    "freq2 = jackpot2/rolls"
   ]
  },
  {
   "cell_type": "code",
   "execution_count": 10,
   "id": "e8ecfc47-3f63-4c25-8e49-fa34bd88c245",
   "metadata": {},
   "outputs": [
    {
     "data": {
      "text/html": [
       "<div>\n",
       "<style scoped>\n",
       "    .dataframe tbody tr th:only-of-type {\n",
       "        vertical-align: middle;\n",
       "    }\n",
       "\n",
       "    .dataframe tbody tr th {\n",
       "        vertical-align: top;\n",
       "    }\n",
       "\n",
       "    .dataframe thead th {\n",
       "        text-align: right;\n",
       "    }\n",
       "</style>\n",
       "<table border=\"1\" class=\"dataframe\">\n",
       "  <thead>\n",
       "    <tr style=\"text-align: right;\">\n",
       "      <th></th>\n",
       "      <th>Game</th>\n",
       "      <th>Jackpot Frequency</th>\n",
       "    </tr>\n",
       "  </thead>\n",
       "  <tbody>\n",
       "    <tr>\n",
       "      <th>0</th>\n",
       "      <td>Game 1</td>\n",
       "      <td>0.504</td>\n",
       "    </tr>\n",
       "    <tr>\n",
       "      <th>1</th>\n",
       "      <td>Game 2</td>\n",
       "      <td>0.362</td>\n",
       "    </tr>\n",
       "  </tbody>\n",
       "</table>\n",
       "</div>"
      ],
      "text/plain": [
       "     Game  Jackpot Frequency\n",
       "0  Game 1              0.504\n",
       "1  Game 2              0.362"
      ]
     },
     "execution_count": 10,
     "metadata": {},
     "output_type": "execute_result"
    }
   ],
   "source": [
    "bar_dict = {\"Game\":[\"Game 1\", \"Game 2\"], \"Jackpot Frequency\":[freq1, freq2]}\n",
    "bar_df = pd.DataFrame(bar_dict)\n",
    "bar_df"
   ]
  },
  {
   "cell_type": "code",
   "execution_count": 11,
   "id": "2d08c498-97b4-459b-b0e1-c65d866944e8",
   "metadata": {},
   "outputs": [
    {
     "data": {
      "text/plain": [
       "Text(0.5, 1.0, 'Jackpot Frequency in Two Games')"
      ]
     },
     "execution_count": 11,
     "metadata": {},
     "output_type": "execute_result"
    },
    {
     "data": {
      "image/png": "[encoded data removed]",
      "text/plain": [
       "<Figure size 400x400 with 1 Axes>"
      ]
     },
     "metadata": {},
     "output_type": "display_data"
    }
   ],
   "source": [
    "plt.figure(figsize=(4,4))\n",
    "sns.barplot(x=\"Game\", y=\"Jackpot Frequency\", data=bar_df)\n",
    "plt.title(\"Jackpot Frequency in Two Games\")"
   ]
  },
  {
   "cell_type": "code",
   "execution_count": null,
   "id": "a34191fe-a580-425a-a1b2-da185a0b1609",
   "metadata": {},
   "outputs": [],
   "source": []
  },
  {
   "cell_type": "markdown",
   "id": "045cb52b-b7cf-48ee-855f-f6de576d7f54",
   "metadata": {},
   "source": [
    "## Scenario 2: A 6-sided Die\n",
    "\n",
    "1.  Create three dice, each with six sides having the faces $1$ through\n",
    "    $6$.\n",
    "\n",
    "2.  Convert one die to an unfair one by weighting the face $6$ five\n",
    "    times more than the other weights (i.e. it has weight of $5$ and the\n",
    "    others a weight of $1$ each).\n",
    "\n",
    "3.  Convert another die to be unfair by weighting the face $1$ five\n",
    "    times more than the others.\n",
    "\n",
    "4.  Play a game of $10000$ rolls with $5$ fair dice.\n",
    "\n",
    "5.  Play a game of $10000$ rolls with $2$ unfair dice, one as defined in\n",
    "    steps #2 and #3 respectively, and $3$ fair dice.\n",
    "\n",
    "6.  For each game, use an Analyzer object to determine the relative\n",
    "    frequency of jackpots and show your results, comparing the two\n",
    "    relative frequencies, in a simple bar chart.\n",
    "\n",
    "7.  Also compute $10$ most frequent combinations of faces for each game.\n",
    "\n",
    "8.  Plot each of these combination results as bar charts."
   ]
  },
  {
   "cell_type": "code",
   "execution_count": 12,
   "id": "38848ee3-8795-47fd-b1c1-298d83db34ae",
   "metadata": {},
   "outputs": [],
   "source": [
    "die1 = Die(np.array([1,2,3,4,5,6]))\n",
    "die2 = Die(np.array([1,2,3,4,5,6]))\n",
    "die3 = Die(np.array([1,2,3,4,5,6]))"
   ]
  },
  {
   "cell_type": "code",
   "execution_count": 13,
   "id": "d13a0659-04c9-43df-aca8-af9a4bd32555",
   "metadata": {},
   "outputs": [],
   "source": [
    "die1.change_weight(6, 5)"
   ]
  },
  {
   "cell_type": "code",
   "execution_count": 14,
   "id": "ccbe0fdd-f337-4db2-9f96-81a7f31556e1",
   "metadata": {},
   "outputs": [],
   "source": [
    "die2.change_weight(1,5)"
   ]
  },
  {
   "cell_type": "code",
   "execution_count": 15,
   "id": "48d328c6-f76f-40fa-bf7e-3e760e059a51",
   "metadata": {},
   "outputs": [],
   "source": [
    "rolls = 10000"
   ]
  },
  {
   "cell_type": "code",
   "execution_count": 16,
   "id": "af231873-7cb1-41df-8114-72e7120f1395",
   "metadata": {},
   "outputs": [],
   "source": [
    "game1 = Game([die3, die3, die3, die3, die3])"
   ]
  },
  {
   "cell_type": "code",
   "execution_count": 17,
   "id": "496d1411-488d-4abd-987d-c5b56072837b",
   "metadata": {},
   "outputs": [],
   "source": [
    "game1.play(rolls)"
   ]
  },
  {
   "cell_type": "code",
   "execution_count": 18,
   "id": "71f31cba-75a7-47c4-8ffe-6758a10efd0c",
   "metadata": {},
   "outputs": [],
   "source": [
    "game2 = Game([die1, die2, die3, die3, die3])"
   ]
  },
  {
   "cell_type": "code",
   "execution_count": 19,
   "id": "e76e902d-08bc-4200-916e-da1502b37710",
   "metadata": {},
   "outputs": [],
   "source": [
    "game2.play(rolls)"
   ]
  },
  {
   "cell_type": "code",
   "execution_count": 20,
   "id": "e7dec093-1d82-4157-8143-ebc8d16de9a3",
   "metadata": {},
   "outputs": [],
   "source": [
    "A1 = Analyzer(game1)"
   ]
  },
  {
   "cell_type": "code",
   "execution_count": 21,
   "id": "493200e4-098e-4d15-89a7-c3ed5e6889cb",
   "metadata": {},
   "outputs": [],
   "source": [
    "jackpot1 = A1.jackpot()\n",
    "freq1 = jackpot1/rolls"
   ]
  },
  {
   "cell_type": "code",
   "execution_count": 22,
   "id": "ce8994df-2897-4d3e-b6a2-ec57cad22836",
   "metadata": {},
   "outputs": [],
   "source": [
    "A2 = Analyzer(game2)"
   ]
  },
  {
   "cell_type": "code",
   "execution_count": 23,
   "id": "ba5835cf-42ce-4e37-a5c2-81c326cff050",
   "metadata": {},
   "outputs": [],
   "source": [
    "jackpot2 = A2.jackpot()\n",
    "freq2 = jackpot2/rolls"
   ]
  },
  {
   "cell_type": "code",
   "execution_count": 24,
   "id": "9a8e58f9-2910-4e59-a9f2-4792a4c9fc3a",
   "metadata": {},
   "outputs": [
    {
     "data": {
      "text/html": [
       "<div>\n",
       "<style scoped>\n",
       "    .dataframe tbody tr th:only-of-type {\n",
       "        vertical-align: middle;\n",
       "    }\n",
       "\n",
       "    .dataframe tbody tr th {\n",
       "        vertical-align: top;\n",
       "    }\n",
       "\n",
       "    .dataframe thead th {\n",
       "        text-align: right;\n",
       "    }\n",
       "</style>\n",
       "<table border=\"1\" class=\"dataframe\">\n",
       "  <thead>\n",
       "    <tr style=\"text-align: right;\">\n",
       "      <th></th>\n",
       "      <th>Game</th>\n",
       "      <th>Jackpot Frequency</th>\n",
       "    </tr>\n",
       "  </thead>\n",
       "  <tbody>\n",
       "    <tr>\n",
       "      <th>0</th>\n",
       "      <td>Game 1</td>\n",
       "      <td>0.0006</td>\n",
       "    </tr>\n",
       "    <tr>\n",
       "      <th>1</th>\n",
       "      <td>Game 2</td>\n",
       "      <td>0.0007</td>\n",
       "    </tr>\n",
       "  </tbody>\n",
       "</table>\n",
       "</div>"
      ],
      "text/plain": [
       "     Game  Jackpot Frequency\n",
       "0  Game 1             0.0006\n",
       "1  Game 2             0.0007"
      ]
     },
     "execution_count": 24,
     "metadata": {},
     "output_type": "execute_result"
    }
   ],
   "source": [
    "bar_dict = {\"Game\":[\"Game 1\", \"Game 2\"], \"Jackpot Frequency\":[freq1, freq2]}\n",
    "bar_df = pd.DataFrame(bar_dict)\n",
    "bar_df"
   ]
  },
  {
   "cell_type": "code",
   "execution_count": 25,
   "id": "6a10121c-ac43-4980-be45-c0779237e995",
   "metadata": {},
   "outputs": [
    {
     "data": {
      "text/plain": [
       "Text(0.5, 1.0, 'Jackpot Frequency in Two Games')"
      ]
     },
     "execution_count": 25,
     "metadata": {},
     "output_type": "execute_result"
    },
    {
     "data": {
      "image/png": "[encoded data removed]",
      "text/plain": [
       "<Figure size 400x400 with 1 Axes>"
      ]
     },
     "metadata": {},
     "output_type": "display_data"
    }
   ],
   "source": [
    "plt.figure(figsize=(4,4))\n",
    "sns.barplot(x=\"Game\", y=\"Jackpot Frequency\", data=bar_df)\n",
    "plt.title(\"Jackpot Frequency in Two Games\")"
   ]
  },
  {
   "cell_type": "code",
   "execution_count": 26,
   "id": "6a66ab91-289e-4f9e-ad3d-195799964eaf",
   "metadata": {},
   "outputs": [
    {
     "data": {
      "text/plain": [
       "Text(0.5, 1.0, 'Plot of Ten Most Likely Die Combinations')"
      ]
     },
     "execution_count": 26,
     "metadata": {},
     "output_type": "execute_result"
    },
    {
     "data": {
      "image/png": "[encoded data removed]",
      "text/plain": [
       "<Figure size 640x480 with 1 Axes>"
      ]
     },
     "metadata": {},
     "output_type": "display_data"
    }
   ],
   "source": [
    "A1.combo_count().sort_values(by='count', ascending=False)[:10].plot.bar(legend=False)\n",
    "plt.xlabel(\"Die Combination\")\n",
    "plt.ylabel(\"count\")\n",
    "plt.title(\"Plot of Ten Most Likely Die Combinations\")"
   ]
  },
  {
   "cell_type": "code",
   "execution_count": 27,
   "id": "fba55f1b-671e-4d2d-b6b4-ac6a6ccf1b59",
   "metadata": {},
   "outputs": [],
   "source": [
    "# sns.barplot(x=out1.index, y=out1.count)"
   ]
  },
  {
   "cell_type": "code",
   "execution_count": 28,
   "id": "90c444e8-544f-412a-af4d-8b73d5747cd0",
   "metadata": {},
   "outputs": [
    {
     "data": {
      "text/plain": [
       "Text(0.5, 1.0, 'Plot of Ten Most Likely Die Combinations')"
      ]
     },
     "execution_count": 28,
     "metadata": {},
     "output_type": "execute_result"
    },
    {
     "data": {
      "image/png": "[encoded data removed]",
      "text/plain": [
       "<Figure size 640x480 with 1 Axes>"
      ]
     },
     "metadata": {},
     "output_type": "display_data"
    }
   ],
   "source": [
    "A2.combo_count().sort_values(by='count', ascending=False)[:10].plot.bar(legend=False)\n",
    "plt.xlabel(\"Die Combination\")\n",
    "plt.ylabel(\"count\")\n",
    "plt.title(\"Plot of Ten Most Likely Die Combinations\")"
   ]
  },
  {
   "cell_type": "markdown",
   "id": "e09537cc-d3d7-45eb-8b04-56e52e30e598",
   "metadata": {},
   "source": [
    "## Scenario 3: Letters of the Alphabet\n",
    "\n",
    "1.  Create a \"die\" of letters from $A$ to $Z$ with weights based on\n",
    "    their frequency of usage as found in the data file\n",
    "    `english_letters.txt`. Use the frequencies (i.e. raw counts) as\n",
    "    weights.\n",
    "\n",
    "2.  Play a game involving $4$ of these dice with $1000$ rolls.\n",
    "\n",
    "3.  Determine wow many distinct permutations in your results are actual\n",
    "    English words, based on the vocabulary found in\n",
    "    `scrabble_words.txt`.\n",
    "\n",
    "4.  Repeat steps #2 and #3 using $5$ dice and compare the results. Which\n",
    "    word length generates a higher percentage of English words?"
   ]
  },
  {
   "cell_type": "code",
   "execution_count": 29,
   "id": "fa9537d9-a070-49c8-af04-4add07fdc545",
   "metadata": {},
   "outputs": [
    {
     "data": {
      "text/html": [
       "<div>\n",
       "<style scoped>\n",
       "    .dataframe tbody tr th:only-of-type {\n",
       "        vertical-align: middle;\n",
       "    }\n",
       "\n",
       "    .dataframe tbody tr th {\n",
       "        vertical-align: top;\n",
       "    }\n",
       "\n",
       "    .dataframe thead th {\n",
       "        text-align: right;\n",
       "    }\n",
       "</style>\n",
       "<table border=\"1\" class=\"dataframe\">\n",
       "  <thead>\n",
       "    <tr style=\"text-align: right;\">\n",
       "      <th></th>\n",
       "      <th>0</th>\n",
       "      <th>1</th>\n",
       "    </tr>\n",
       "  </thead>\n",
       "  <tbody>\n",
       "    <tr>\n",
       "      <th>0</th>\n",
       "      <td>E</td>\n",
       "      <td>529117365</td>\n",
       "    </tr>\n",
       "    <tr>\n",
       "      <th>1</th>\n",
       "      <td>T</td>\n",
       "      <td>390965105</td>\n",
       "    </tr>\n",
       "    <tr>\n",
       "      <th>2</th>\n",
       "      <td>A</td>\n",
       "      <td>374061888</td>\n",
       "    </tr>\n",
       "    <tr>\n",
       "      <th>3</th>\n",
       "      <td>O</td>\n",
       "      <td>326627740</td>\n",
       "    </tr>\n",
       "    <tr>\n",
       "      <th>4</th>\n",
       "      <td>I</td>\n",
       "      <td>320410057</td>\n",
       "    </tr>\n",
       "    <tr>\n",
       "      <th>5</th>\n",
       "      <td>N</td>\n",
       "      <td>313720540</td>\n",
       "    </tr>\n",
       "    <tr>\n",
       "      <th>6</th>\n",
       "      <td>S</td>\n",
       "      <td>294300210</td>\n",
       "    </tr>\n",
       "    <tr>\n",
       "      <th>7</th>\n",
       "      <td>R</td>\n",
       "      <td>277000841</td>\n",
       "    </tr>\n",
       "    <tr>\n",
       "      <th>8</th>\n",
       "      <td>H</td>\n",
       "      <td>216768975</td>\n",
       "    </tr>\n",
       "    <tr>\n",
       "      <th>9</th>\n",
       "      <td>L</td>\n",
       "      <td>183996130</td>\n",
       "    </tr>\n",
       "    <tr>\n",
       "      <th>10</th>\n",
       "      <td>D</td>\n",
       "      <td>169330528</td>\n",
       "    </tr>\n",
       "    <tr>\n",
       "      <th>11</th>\n",
       "      <td>C</td>\n",
       "      <td>138416451</td>\n",
       "    </tr>\n",
       "    <tr>\n",
       "      <th>12</th>\n",
       "      <td>U</td>\n",
       "      <td>117295780</td>\n",
       "    </tr>\n",
       "    <tr>\n",
       "      <th>13</th>\n",
       "      <td>M</td>\n",
       "      <td>110504544</td>\n",
       "    </tr>\n",
       "    <tr>\n",
       "      <th>14</th>\n",
       "      <td>F</td>\n",
       "      <td>95422055</td>\n",
       "    </tr>\n",
       "    <tr>\n",
       "      <th>15</th>\n",
       "      <td>G</td>\n",
       "      <td>91258980</td>\n",
       "    </tr>\n",
       "    <tr>\n",
       "      <th>16</th>\n",
       "      <td>P</td>\n",
       "      <td>90376747</td>\n",
       "    </tr>\n",
       "    <tr>\n",
       "      <th>17</th>\n",
       "      <td>W</td>\n",
       "      <td>79843664</td>\n",
       "    </tr>\n",
       "    <tr>\n",
       "      <th>18</th>\n",
       "      <td>Y</td>\n",
       "      <td>75294515</td>\n",
       "    </tr>\n",
       "    <tr>\n",
       "      <th>19</th>\n",
       "      <td>B</td>\n",
       "      <td>70195826</td>\n",
       "    </tr>\n",
       "    <tr>\n",
       "      <th>20</th>\n",
       "      <td>V</td>\n",
       "      <td>46337161</td>\n",
       "    </tr>\n",
       "    <tr>\n",
       "      <th>21</th>\n",
       "      <td>K</td>\n",
       "      <td>35373464</td>\n",
       "    </tr>\n",
       "    <tr>\n",
       "      <th>22</th>\n",
       "      <td>J</td>\n",
       "      <td>9613410</td>\n",
       "    </tr>\n",
       "    <tr>\n",
       "      <th>23</th>\n",
       "      <td>X</td>\n",
       "      <td>8369915</td>\n",
       "    </tr>\n",
       "    <tr>\n",
       "      <th>24</th>\n",
       "      <td>Z</td>\n",
       "      <td>4975847</td>\n",
       "    </tr>\n",
       "    <tr>\n",
       "      <th>25</th>\n",
       "      <td>Q</td>\n",
       "      <td>4550166</td>\n",
       "    </tr>\n",
       "  </tbody>\n",
       "</table>\n",
       "</div>"
      ],
      "text/plain": [
       "    0          1\n",
       "0   E  529117365\n",
       "1   T  390965105\n",
       "2   A  374061888\n",
       "3   O  326627740\n",
       "4   I  320410057\n",
       "5   N  313720540\n",
       "6   S  294300210\n",
       "7   R  277000841\n",
       "8   H  216768975\n",
       "9   L  183996130\n",
       "10  D  169330528\n",
       "11  C  138416451\n",
       "12  U  117295780\n",
       "13  M  110504544\n",
       "14  F   95422055\n",
       "15  G   91258980\n",
       "16  P   90376747\n",
       "17  W   79843664\n",
       "18  Y   75294515\n",
       "19  B   70195826\n",
       "20  V   46337161\n",
       "21  K   35373464\n",
       "22  J    9613410\n",
       "23  X    8369915\n",
       "24  Z    4975847\n",
       "25  Q    4550166"
      ]
     },
     "execution_count": 29,
     "metadata": {},
     "output_type": "execute_result"
    }
   ],
   "source": [
    "df = pd.read_csv('english_letters.txt', header=None, delimiter = \" \")\n",
    "df"
   ]
  },
  {
   "cell_type": "code",
   "execution_count": 30,
   "id": "632d5520-95d1-4c24-a2fa-9385549426e1",
   "metadata": {},
   "outputs": [
    {
     "data": {
      "text/plain": [
       "array(['E', 'T', 'A', 'O', 'I', 'N', 'S', 'R', 'H', 'L', 'D', 'C', 'U',\n",
       "       'M', 'F', 'G', 'P', 'W', 'Y', 'B', 'V', 'K', 'J', 'X', 'Z', 'Q'],\n",
       "      dtype=object)"
      ]
     },
     "execution_count": 30,
     "metadata": {},
     "output_type": "execute_result"
    }
   ],
   "source": [
    "letters = df[0].to_numpy()\n",
    "letters"
   ]
  },
  {
   "cell_type": "code",
   "execution_count": 31,
   "id": "2cc624c0-9e0f-4674-97df-ae717e7d7327",
   "metadata": {},
   "outputs": [],
   "source": [
    "die = Die(letters)"
   ]
  },
  {
   "cell_type": "code",
   "execution_count": 32,
   "id": "7d0e9b36-c3c7-4f10-9773-cf775efdc2e5",
   "metadata": {},
   "outputs": [],
   "source": [
    "for i in letters:\n",
    "    die.change_weight(i, df[df[0]==i][1].item())"
   ]
  },
  {
   "cell_type": "code",
   "execution_count": 33,
   "id": "c506bf72-8756-49e0-bbca-a88e74db859f",
   "metadata": {},
   "outputs": [
    {
     "data": {
      "text/html": [
       "<div>\n",
       "<style scoped>\n",
       "    .dataframe tbody tr th:only-of-type {\n",
       "        vertical-align: middle;\n",
       "    }\n",
       "\n",
       "    .dataframe tbody tr th {\n",
       "        vertical-align: top;\n",
       "    }\n",
       "\n",
       "    .dataframe thead th {\n",
       "        text-align: right;\n",
       "    }\n",
       "</style>\n",
       "<table border=\"1\" class=\"dataframe\">\n",
       "  <thead>\n",
       "    <tr style=\"text-align: right;\">\n",
       "      <th></th>\n",
       "      <th>weights</th>\n",
       "    </tr>\n",
       "  </thead>\n",
       "  <tbody>\n",
       "    <tr>\n",
       "      <th>E</th>\n",
       "      <td>529117365</td>\n",
       "    </tr>\n",
       "    <tr>\n",
       "      <th>T</th>\n",
       "      <td>390965105</td>\n",
       "    </tr>\n",
       "    <tr>\n",
       "      <th>A</th>\n",
       "      <td>374061888</td>\n",
       "    </tr>\n",
       "    <tr>\n",
       "      <th>O</th>\n",
       "      <td>326627740</td>\n",
       "    </tr>\n",
       "    <tr>\n",
       "      <th>I</th>\n",
       "      <td>320410057</td>\n",
       "    </tr>\n",
       "    <tr>\n",
       "      <th>N</th>\n",
       "      <td>313720540</td>\n",
       "    </tr>\n",
       "    <tr>\n",
       "      <th>S</th>\n",
       "      <td>294300210</td>\n",
       "    </tr>\n",
       "    <tr>\n",
       "      <th>R</th>\n",
       "      <td>277000841</td>\n",
       "    </tr>\n",
       "    <tr>\n",
       "      <th>H</th>\n",
       "      <td>216768975</td>\n",
       "    </tr>\n",
       "    <tr>\n",
       "      <th>L</th>\n",
       "      <td>183996130</td>\n",
       "    </tr>\n",
       "    <tr>\n",
       "      <th>D</th>\n",
       "      <td>169330528</td>\n",
       "    </tr>\n",
       "    <tr>\n",
       "      <th>C</th>\n",
       "      <td>138416451</td>\n",
       "    </tr>\n",
       "    <tr>\n",
       "      <th>U</th>\n",
       "      <td>117295780</td>\n",
       "    </tr>\n",
       "    <tr>\n",
       "      <th>M</th>\n",
       "      <td>110504544</td>\n",
       "    </tr>\n",
       "    <tr>\n",
       "      <th>F</th>\n",
       "      <td>95422055</td>\n",
       "    </tr>\n",
       "    <tr>\n",
       "      <th>G</th>\n",
       "      <td>91258980</td>\n",
       "    </tr>\n",
       "    <tr>\n",
       "      <th>P</th>\n",
       "      <td>90376747</td>\n",
       "    </tr>\n",
       "    <tr>\n",
       "      <th>W</th>\n",
       "      <td>79843664</td>\n",
       "    </tr>\n",
       "    <tr>\n",
       "      <th>Y</th>\n",
       "      <td>75294515</td>\n",
       "    </tr>\n",
       "    <tr>\n",
       "      <th>B</th>\n",
       "      <td>70195826</td>\n",
       "    </tr>\n",
       "    <tr>\n",
       "      <th>V</th>\n",
       "      <td>46337161</td>\n",
       "    </tr>\n",
       "    <tr>\n",
       "      <th>K</th>\n",
       "      <td>35373464</td>\n",
       "    </tr>\n",
       "    <tr>\n",
       "      <th>J</th>\n",
       "      <td>9613410</td>\n",
       "    </tr>\n",
       "    <tr>\n",
       "      <th>X</th>\n",
       "      <td>8369915</td>\n",
       "    </tr>\n",
       "    <tr>\n",
       "      <th>Z</th>\n",
       "      <td>4975847</td>\n",
       "    </tr>\n",
       "    <tr>\n",
       "      <th>Q</th>\n",
       "      <td>4550166</td>\n",
       "    </tr>\n",
       "  </tbody>\n",
       "</table>\n",
       "</div>"
      ],
      "text/plain": [
       "     weights\n",
       "E  529117365\n",
       "T  390965105\n",
       "A  374061888\n",
       "O  326627740\n",
       "I  320410057\n",
       "N  313720540\n",
       "S  294300210\n",
       "R  277000841\n",
       "H  216768975\n",
       "L  183996130\n",
       "D  169330528\n",
       "C  138416451\n",
       "U  117295780\n",
       "M  110504544\n",
       "F   95422055\n",
       "G   91258980\n",
       "P   90376747\n",
       "W   79843664\n",
       "Y   75294515\n",
       "B   70195826\n",
       "V   46337161\n",
       "K   35373464\n",
       "J    9613410\n",
       "X    8369915\n",
       "Z    4975847\n",
       "Q    4550166"
      ]
     },
     "execution_count": 33,
     "metadata": {},
     "output_type": "execute_result"
    }
   ],
   "source": [
    "die.show_state()"
   ]
  },
  {
   "cell_type": "code",
   "execution_count": 34,
   "id": "03992ed2-f264-4ca7-bda8-73cb107f872b",
   "metadata": {},
   "outputs": [],
   "source": [
    "game = Game([die, die, die, die])\n",
    "game.play(1000)"
   ]
  },
  {
   "cell_type": "code",
   "execution_count": 35,
   "id": "554056da-9305-433d-8f31-fb07a589db79",
   "metadata": {},
   "outputs": [
    {
     "data": {
      "text/plain": [
       "0               AA\n",
       "1              AAH\n",
       "2            AAHED\n",
       "3           AAHING\n",
       "4             AAHS\n",
       "            ...   \n",
       "279491     ZYTHUMS\n",
       "279492     ZYZZYVA\n",
       "279493    ZYZZYVAS\n",
       "279494         ZZZ\n",
       "279495        ZZZS\n",
       "Name: 0, Length: 279496, dtype: object"
      ]
     },
     "execution_count": 35,
     "metadata": {},
     "output_type": "execute_result"
    }
   ],
   "source": [
    "words = pd.read_csv('scrabble_words.txt', header=None)\n",
    "words[0]"
   ]
  },
  {
   "cell_type": "code",
   "execution_count": 36,
   "id": "c812380c-0bbb-4902-b6b9-b2a69140f4ad",
   "metadata": {},
   "outputs": [],
   "source": [
    "four = set(words[words[0].apply(lambda x: len(str(x))==4)][0].to_list())\n",
    "five = set(words[words[0].apply(lambda x: len(str(x))==5)][0].to_list())"
   ]
  },
  {
   "cell_type": "code",
   "execution_count": 37,
   "id": "1b9ebd43-8923-4564-92fb-73d2b6f094f7",
   "metadata": {},
   "outputs": [],
   "source": [
    "out = game.show_result()"
   ]
  },
  {
   "cell_type": "code",
   "execution_count": 38,
   "id": "58d8ef1e-96f2-4828-b07a-34485de94906",
   "metadata": {},
   "outputs": [],
   "source": [
    "out[\"word\"] = out[0] + out[1] + out[2] + out[3]"
   ]
  },
  {
   "cell_type": "code",
   "execution_count": 39,
   "id": "1ad4de56-6ac5-4051-97bb-c5691b3b0208",
   "metadata": {},
   "outputs": [],
   "source": [
    "words = set(out[\"word\"].to_list())"
   ]
  },
  {
   "cell_type": "code",
   "execution_count": 40,
   "id": "26887ee2-6005-4280-a876-7fd1e462e303",
   "metadata": {},
   "outputs": [
    {
     "data": {
      "text/plain": [
       "{'AALS',\n",
       " 'AGER',\n",
       " 'AIMS',\n",
       " 'ALEF',\n",
       " 'AWEE',\n",
       " 'CAVA',\n",
       " 'DAWT',\n",
       " 'DEED',\n",
       " 'EMES',\n",
       " 'EYRE',\n",
       " 'FOBS',\n",
       " 'FORE',\n",
       " 'GAIN',\n",
       " 'HARM',\n",
       " 'HATE',\n",
       " 'HEBE',\n",
       " 'HIDE',\n",
       " 'HOIS',\n",
       " 'INTI',\n",
       " 'LANT',\n",
       " 'LITU',\n",
       " 'LOWN',\n",
       " 'LYTE',\n",
       " 'MEEK',\n",
       " 'MOAN',\n",
       " 'NADS',\n",
       " 'OLEA',\n",
       " 'PAIN',\n",
       " 'PORN',\n",
       " 'REDD',\n",
       " 'ROST',\n",
       " 'RUDD',\n",
       " 'SETT',\n",
       " 'SIES',\n",
       " 'SKEW',\n",
       " 'STOA',\n",
       " 'TIER',\n",
       " 'TINT',\n",
       " 'TOLU',\n",
       " 'TREM',\n",
       " 'UREA',\n",
       " 'WEET'}"
      ]
     },
     "execution_count": 40,
     "metadata": {},
     "output_type": "execute_result"
    }
   ],
   "source": [
    "four.intersection(words)"
   ]
  },
  {
   "cell_type": "code",
   "execution_count": 41,
   "id": "5bf82692-fe46-4288-bc46-b627baf8ab83",
   "metadata": {},
   "outputs": [],
   "source": [
    "game2 = Game([die, die, die, die, die])\n",
    "game2.play(1000)"
   ]
  },
  {
   "cell_type": "code",
   "execution_count": 42,
   "id": "f9e53e04-ad7b-4ee8-9afa-382b1289a32e",
   "metadata": {},
   "outputs": [],
   "source": [
    "out2 = game2.show_result()\n",
    "out2[\"word\"] = out2[0] + out2[1] + out2[2] + out2[3] + out2[4]"
   ]
  },
  {
   "cell_type": "code",
   "execution_count": 43,
   "id": "b4e83a5b-0fce-4ac3-a109-050c247a51b3",
   "metadata": {},
   "outputs": [],
   "source": [
    "words = set(out2[\"word\"].to_list())"
   ]
  },
  {
   "cell_type": "code",
   "execution_count": 44,
   "id": "03e5057a-f5b9-4248-a15c-f595bece494a",
   "metadata": {},
   "outputs": [
    {
     "data": {
      "text/plain": [
       "{'AERIE',\n",
       " 'BENNE',\n",
       " 'CAMIS',\n",
       " 'CHELA',\n",
       " 'ETHOS',\n",
       " 'HAETS',\n",
       " 'LENIS',\n",
       " 'LITES',\n",
       " 'LOANS',\n",
       " 'RATES',\n",
       " 'REARS',\n",
       " 'ROUSE',\n",
       " 'TWEET',\n",
       " 'VIRTU'}"
      ]
     },
     "execution_count": 44,
     "metadata": {},
     "output_type": "execute_result"
    }
   ],
   "source": [
    "five.intersection(words)"
   ]
  },
  {
   "cell_type": "markdown",
   "id": "083e93c1-8c6f-442c-9d98-77761b728d01",
   "metadata": {},
   "source": [
    "4 letter words generate a higher percentage of English words"
   ]
  },
  {
   "cell_type": "code",
   "execution_count": 47,
   "id": "eed8db79-420e-48ad-8bcc-85fe8b5d68e7",
   "metadata": {},
   "outputs": [
    {
     "data": {
      "text/html": [
       "<div>\n",
       "<style scoped>\n",
       "    .dataframe tbody tr th:only-of-type {\n",
       "        vertical-align: middle;\n",
       "    }\n",
       "\n",
       "    .dataframe tbody tr th {\n",
       "        vertical-align: top;\n",
       "    }\n",
       "\n",
       "    .dataframe thead th {\n",
       "        text-align: right;\n",
       "    }\n",
       "</style>\n",
       "<table border=\"1\" class=\"dataframe\">\n",
       "  <thead>\n",
       "    <tr style=\"text-align: right;\">\n",
       "      <th></th>\n",
       "      <th>weights</th>\n",
       "    </tr>\n",
       "  </thead>\n",
       "  <tbody>\n",
       "    <tr>\n",
       "      <th>1</th>\n",
       "      <td>1</td>\n",
       "    </tr>\n",
       "    <tr>\n",
       "      <th>2</th>\n",
       "      <td>1</td>\n",
       "    </tr>\n",
       "    <tr>\n",
       "      <th>3</th>\n",
       "      <td>1</td>\n",
       "    </tr>\n",
       "    <tr>\n",
       "      <th>4</th>\n",
       "      <td>1</td>\n",
       "    </tr>\n",
       "    <tr>\n",
       "      <th>5</th>\n",
       "      <td>1</td>\n",
       "    </tr>\n",
       "    <tr>\n",
       "      <th>6</th>\n",
       "      <td>5</td>\n",
       "    </tr>\n",
       "  </tbody>\n",
       "</table>\n",
       "</div>"
      ],
      "text/plain": [
       "   weights\n",
       "1        1\n",
       "2        1\n",
       "3        1\n",
       "4        1\n",
       "5        1\n",
       "6        5"
      ]
     },
     "execution_count": 47,
     "metadata": {},
     "output_type": "execute_result"
    }
   ],
   "source": [
    "die1.show_state()"
   ]
  },
  {
   "cell_type": "code",
   "execution_count": null,
   "id": "fa7d0e35-535a-47c3-b419-3aff336ac0be",
   "metadata": {},
   "outputs": [],
   "source": []
  }
 ],
 "metadata": {
  "kernelspec": {
   "display_name": "Python 3 (ipykernel)",
   "language": "python",
   "name": "python3"
  },
  "language_info": {
   "codemirror_mode": {
    "name": "ipython",
    "version": 3
   },
   "file_extension": ".py",
   "mimetype": "text/x-python",
   "name": "python",
   "nbconvert_exporter": "python",
   "pygments_lexer": "ipython3",
   "version": "3.10.9"
  }
 },
 "nbformat": 4,
 "nbformat_minor": 5
}
